{
 "cells": [
  {
   "cell_type": "code",
   "execution_count": 6,
   "metadata": {},
   "outputs": [],
   "source": [
    "import math\n",
    "\n",
    "class SeqSearch:\n",
    "    \n",
    "    def __init__(self, data, tally_factor=0, sa_factor=0,test=False): # data - string sequence used in querying\n",
    "        self.tally_factor = tally_factor                              # test - print values of fl_matrix, sa and tally\n",
    "        self.sa_factor = sa_factor\n",
    "        \n",
    "        fl_matrix = SeqSearch.create_rotations(data)\n",
    "        fl_matrix.sort()\n",
    "        \n",
    "        self.sa = self.sa_index(fl_matrix)\n",
    "        \n",
    "        f_string = SeqSearch.get_column(fl_matrix, 0)\n",
    "        l_string = SeqSearch.get_column(fl_matrix, -1)\n",
    "        \n",
    "        self.fl_matrix = {'first':SeqSearch.compress_first(f_string), 'last':l_string}\n",
    "        self.tally = self.tally_matrix()\n",
    "        \n",
    "        if test:\n",
    "            print('FIRST LAST MATRIX', self.fl_matrix)\n",
    "            print('')\n",
    "            print('SA',self.sa)\n",
    "            print('')\n",
    "            print('TALLY',self.tally)\n",
    "        \n",
    "\n",
    "    \n",
    "    def create_rotations(data): #data - string used to create matrix\n",
    "        '''This function creates a matrix of rotations from a string passed as the first argument.'''\n",
    "        matrix = []\n",
    "        double_data = data + data\n",
    "        for i in range(0,len(data)):\n",
    "            matrix.append(double_data[i:i+len(data)])\n",
    "        return matrix\n",
    "    \n",
    "    def get_column(matrix, column): #matrix - matrix of rotations, column - index of the column that is to be extracted\n",
    "        '''This function extracts a column from a given matrix.'''\n",
    "        column_string = ''\n",
    "        for i in range(0,len(matrix[0])):\n",
    "            column_string += matrix[i][column] \n",
    "        return column_string\n",
    "\n",
    "    def tally_matrix(self):\n",
    "        chars = (set(self.fl_matrix['last'])-set('$'))\n",
    "        tally = {}\n",
    "        cnts = {}\n",
    "        for c in chars:\n",
    "            tally[c]=[]\n",
    "            cnts[c]=0\n",
    "        \n",
    "        iteration = 0;\n",
    "        for c in self.fl_matrix['last']:\n",
    "            if c!='$':\n",
    "                cnts[c] = cnts[c] + 1\n",
    "            if (self.tally_factor==0) or (iteration%self.tally_factor==0) :\n",
    "                for ch in chars:\n",
    "                    tally[ch].append(cnts[ch])\n",
    "            iteration+=1\n",
    "        return tally\n",
    "    \n",
    "    def sa_index(self,rotations): #rotations\n",
    "        sa = {}\n",
    "        iteration = 0\n",
    "        strlen = len(rotations[0])\n",
    "        for row in rotations:\n",
    "            if (self.sa_factor==0) or (((row.index('$')-((strlen-1)%self.sa_factor))%self.sa_factor)==0):\n",
    "                sa[iteration] = len(row) - row.index('$') - 1\n",
    "            iteration+=1\n",
    "        return sa\n",
    "    \n",
    "    def compress_first(first_str):\n",
    "        '''Compresses a string that has consecutive characters and was given as first argument.'''\n",
    "        first = []\n",
    "        ch=first_str[0]\n",
    "        for i in range(0,len(first_str)):\n",
    "            if first_str[i]==ch:\n",
    "                continue\n",
    "            first.append((ch,i))\n",
    "            ch = first_str[i]\n",
    "        first.append((ch,len(first_str)))\n",
    "        return first\n",
    "\n",
    "    \n",
    "    def find_row_by_last(self,ch,rank):\n",
    "        for i in range(0,len(self.fl_matrix['first'])):\n",
    "            if self.fl_matrix['first'][i][0]==ch:\n",
    "                if i==0: \n",
    "                    return rank\n",
    "                else:\n",
    "                    return self.fl_matrix['first'][i-1][1]+rank\n",
    "                \n",
    "    \n",
    "    def get_rank_by_tally(self, ch, row_number):\n",
    "\n",
    "        if row_number >= len(self.fl_matrix['last']):\n",
    "            return -1\n",
    "\n",
    "        if self.tally_factor==0:\n",
    "            return self.tally[ch][row_number]-1\n",
    "        elif row_number%self.tally_factor==0:\n",
    "            return self.tally[ch][int(row_number/self.tally_factor)]-1\n",
    "        else:\n",
    "            cnt=0\n",
    "            if (row_number/self.tally_factor >= self.tally_factor/2 and (math.ceil(row_number/self.tally_factor)<len(self.tally[ch]))):\n",
    "                row=row_number+1;\n",
    "                while(row%self.tally_factor!=0):\n",
    "                    if self.fl_matrix['last'][row] == ch:\n",
    "                        cnt+=1\n",
    "                    row+=1;\n",
    "                if self.fl_matrix['last'][row]==ch:\n",
    "                    cnt+= 1\n",
    "\n",
    "                return self.tally[ch][int(row/self.tally_factor)] - cnt - 1 \n",
    "\n",
    "\n",
    "            else:\n",
    "                row=row_number;\n",
    "                while(row%self.tally_factor!=0):\n",
    "                    if self.fl_matrix['last'][row] == ch:\n",
    "                        cnt+=1\n",
    "                    row-=1;           \n",
    "\n",
    "                return self.tally[ch][math.floor(row/self.tally_factor)] + cnt - 1\n",
    "       \n",
    "    \n",
    "    def get_offset_by_sa(self,rows_list):\n",
    "        offsets = []\n",
    "        \n",
    "        for row in rows_list:\n",
    "            cnt=0;\n",
    "            i = row\n",
    "            while (not (i in self.sa)):\n",
    "                cnt+=1\n",
    "                ch = self.fl_matrix['last'][i]\n",
    "                i = self.find_row_by_last(ch , self.get_rank_by_tally(ch,i))\n",
    "            offsets.append(self.sa[i]+cnt)   \n",
    "        return offsets\n",
    "    \n",
    "    \n",
    "    \n",
    "    def query(self, pattern):\n",
    "        pos = len(pattern)-1\n",
    "        ch = pattern[pos]\n",
    "        rows = []\n",
    "        \n",
    "        for i in range(0,len(self.fl_matrix['first'])):\n",
    "            if self.fl_matrix['first'][i][0] == ch:\n",
    "                if i == 0:\n",
    "                    rows = [i for i in range(0,self.fl_matrix['first'][i][1])]\n",
    "                else:\n",
    "                    rows = [i for i in range(self.fl_matrix['first'][i-1][1],self.fl_matrix['first'][i][1])]\n",
    "        \n",
    "        \n",
    "        while(pos>0):\n",
    "            tmp_rows = []\n",
    "            for row in rows:\n",
    "                if self.fl_matrix['last'][row] == pattern[pos-1]:\n",
    "                    c = pattern[pos-1]\n",
    "                    x = self.find_row_by_last(c,self.get_rank_by_tally(c,row))\n",
    "                    tmp_rows.append(x)\n",
    "            if not tmp_rows:\n",
    "                return []\n",
    "            pos-=1\n",
    "            rows = tmp_rows\n",
    "        \n",
    "        return self.get_offset_by_sa(rows)\n",
    "    \n"
   ]
  },
  {
   "cell_type": "code",
   "execution_count": 34,
   "metadata": {},
   "outputs": [
    {
     "data": {
      "text/plain": [
       "'This function creates a matrix of rotations from a string passed as the first argument.'"
      ]
     },
     "metadata": {},
     "output_type": "display_data"
    },
    {
     "data": {
      "text/plain": [
       "['banana$', 'anana$b', 'nana$ba', 'ana$ban', 'na$bana', 'a$banan', '$banana']"
      ]
     },
     "execution_count": 34,
     "metadata": {},
     "output_type": "execute_result"
    }
   ],
   "source": [
    "#testiranje funkcije create_rotations\n",
    "\n",
    "display(SeqSearch.create_rotations.__doc__)\n",
    "SeqSearch.create_rotations('banana$')"
   ]
  },
  {
   "cell_type": "code",
   "execution_count": 35,
   "metadata": {},
   "outputs": [
    {
     "data": {
      "text/plain": [
       "'This function extracts a column from a given matrix.'"
      ]
     },
     "metadata": {},
     "output_type": "display_data"
    },
    {
     "data": {
      "text/plain": [
       "'anana$b'"
      ]
     },
     "execution_count": 35,
     "metadata": {},
     "output_type": "execute_result"
    }
   ],
   "source": [
    "#testiranje funkcije get_column\n",
    "\n",
    "display(SeqSearch.get_column.__doc__)\n",
    "seq = 'banana$'\n",
    "matrix = SeqSearch.create_rotations(seq) #see cell above output for matrix values\n",
    "second_column_index = 1\n",
    "SeqSearch.get_column(matrix,second_column_index)\n"
   ]
  },
  {
   "cell_type": "code",
   "execution_count": 64,
   "metadata": {
    "scrolled": true
   },
   "outputs": [
    {
     "name": "stdout",
     "output_type": "stream",
     "text": [
      "tally_factor = 0, sa_factor = 0\n",
      "\n",
      "\n",
      "FIRST LAST MATRIX {'first': [('$', 1), ('a', 4), ('b', 5), ('n', 7)], 'last': 'annb$aa'}\n",
      "\n",
      "SA {0: 6, 1: 5, 2: 3, 3: 1, 4: 0, 5: 4, 6: 2}\n",
      "\n",
      "TALLY {'n': [0, 1, 2, 2, 2, 2, 2], 'b': [0, 0, 0, 1, 1, 1, 1], 'a': [1, 1, 1, 1, 1, 2, 3]}\n",
      "\n",
      "\n",
      "\n",
      "tally_factor = 4, sa_factor = 2\n",
      "\n",
      "\n",
      "FIRST LAST MATRIX {'first': [('$', 1), ('a', 4), ('b', 5), ('n', 7)], 'last': 'annb$aa'}\n",
      "\n",
      "SA {0: 6, 4: 0, 5: 4, 6: 2}\n",
      "\n",
      "TALLY {'n': [0, 2], 'b': [0, 1], 'a': [1, 1]}\n"
     ]
    }
   ],
   "source": [
    "#testiranje konstruktora objekta SeqSearch\n",
    "#on je zaduzen za konstuisanje FL matrice, SA indeksnog niza i tally matrice\n",
    "#tako da je ovo ujedino test i za tally_matrix i sa_index funkcije\n",
    "print('tally_factor = 0, sa_factor = 0')\n",
    "print('\\n')\n",
    "seq = SeqSearch('banana$',0,0,test=True)\n",
    "print('\\n'*2)\n",
    "\n",
    "print('tally_factor = 4, sa_factor = 2')\n",
    "print('\\n')\n",
    "seq = SeqSearch('banana$',4,2,test=True)"
   ]
  },
  {
   "cell_type": "code",
   "execution_count": 62,
   "metadata": {},
   "outputs": [
    {
     "data": {
      "text/plain": [
       "'Compresses a string that has consecutive characters and was given as first argument.'"
      ]
     },
     "metadata": {},
     "output_type": "display_data"
    },
    {
     "data": {
      "text/plain": [
       "[('$', 1), ('a', 9), ('b', 17), ('c', 30)]"
      ]
     },
     "metadata": {},
     "output_type": "display_data"
    }
   ],
   "source": [
    "#testiranje funkcije compress_first\n",
    "display(SeqSearch.compress_first.__doc__)\n",
    "display(SeqSearch.compress_first('$aaaaaaaabbbbbbbbccccccccccccc'))"
   ]
  },
  {
   "cell_type": "code",
   "execution_count": 8,
   "metadata": {},
   "outputs": [
    {
     "data": {
      "text/plain": [
       "[3, 1]"
      ]
     },
     "execution_count": 8,
     "metadata": {},
     "output_type": "execute_result"
    }
   ],
   "source": [
    "#testiranje funkcije query\n",
    "seq = SeqSearch('banana$',4,2)\n",
    "term = 'ana'\n",
    "seq.query(term)\n"
   ]
  },
  {
   "cell_type": "code",
   "execution_count": 15,
   "metadata": {},
   "outputs": [
    {
     "name": "stdout",
     "output_type": "stream",
     "text": [
      "FIRST LAST MATRIX {'first': [('$', 1), ('a', 4), ('b', 5), ('n', 7)], 'last': 'annb$aa'}\n",
      "\n",
      "SA {0: 6, 4: 0, 5: 4, 6: 2}\n",
      "\n",
      "TALLY {'b': [0, 1], 'n': [0, 2], 'a': [1, 1]}\n"
     ]
    },
    {
     "data": {
      "text/plain": [
       "1"
      ]
     },
     "metadata": {},
     "output_type": "display_data"
    }
   ],
   "source": [
    "#testiranje funkcije get_rank_by_tally\n",
    "seq = SeqSearch('banana$',4,2,True)\n",
    "display(seq.get_rank_by_tally('a',5))"
   ]
  },
  {
   "cell_type": "code",
   "execution_count": 17,
   "metadata": {},
   "outputs": [
    {
     "name": "stdout",
     "output_type": "stream",
     "text": [
      "FIRST LAST MATRIX {'first': [('$', 1), ('a', 4), ('b', 5), ('n', 7)], 'last': 'annb$aa'}\n",
      "\n",
      "SA {0: 6, 4: 0, 5: 4, 6: 2}\n",
      "\n",
      "TALLY {'b': [0, 1], 'n': [0, 2], 'a': [1, 1]}\n"
     ]
    },
    {
     "data": {
      "text/plain": [
       "2"
      ]
     },
     "execution_count": 17,
     "metadata": {},
     "output_type": "execute_result"
    }
   ],
   "source": [
    "#testiranje funkcije find_row_by_last\n",
    "seq = SeqSearch('banana$',4,2,True)\n",
    "seq.find_row_by_last('a',1)"
   ]
  },
  {
   "cell_type": "code",
   "execution_count": 20,
   "metadata": {},
   "outputs": [
    {
     "name": "stdout",
     "output_type": "stream",
     "text": [
      "FIRST LAST MATRIX {'first': [('$', 1), ('a', 5), ('b', 7)], 'last': 'abba$aa'}\n",
      "\n",
      "SA {0: 6, 2: 2, 4: 0, 5: 4}\n",
      "\n",
      "TALLY {'b': [0, 2], 'a': [1, 2]}\n"
     ]
    },
    {
     "data": {
      "text/plain": [
       "[3, 0]"
      ]
     },
     "metadata": {},
     "output_type": "display_data"
    },
    {
     "data": {
      "text/plain": [
       "[3, 0]"
      ]
     },
     "metadata": {},
     "output_type": "display_data"
    }
   ],
   "source": [
    "#testiranje funkcije get_offset_by_sa\n",
    "#primer sa predavanja [3,4] se dobija pri pretrazi aba patterna\n",
    "seq = SeqSearch('abaaba$',4,2,True)\n",
    "display(seq.get_offset_by_sa([3,4]))\n",
    "\n",
    "display(seq.query('aba'))"
   ]
  },
  {
   "cell_type": "code",
   "execution_count": null,
   "metadata": {},
   "outputs": [],
   "source": []
  }
 ],
 "metadata": {
  "kernelspec": {
   "display_name": "Python 3",
   "language": "python",
   "name": "python3"
  },
  "language_info": {
   "codemirror_mode": {
    "name": "ipython",
    "version": 3
   },
   "file_extension": ".py",
   "mimetype": "text/x-python",
   "name": "python",
   "nbconvert_exporter": "python",
   "pygments_lexer": "ipython3",
   "version": "3.7.4"
  }
 },
 "nbformat": 4,
 "nbformat_minor": 2
}
